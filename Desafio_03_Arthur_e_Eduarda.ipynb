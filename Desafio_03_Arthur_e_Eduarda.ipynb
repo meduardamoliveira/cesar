{
  "cells": [
    {
      "cell_type": "markdown",
      "metadata": {
        "id": "t3pBGx8J__8A"
      },
      "source": [
        "- Grupo: Arthur Lira e Maria Eduarda Marques\n",
        "- Base de Dados: https://www.kaggle.com/datasets/yasserh/imdb-movie-ratings-sentiment-analysis/data"
      ]
    },
    {
      "cell_type": "markdown",
      "metadata": {
        "id": "gOSKq5vh3FUv"
      },
      "source": [
        "# Atividade em Grupo\n",
        "\n",
        "## Considere para essa atividade o notebook Aula 04.\n",
        "\n",
        "Vamos fazer uma análise de um dataset de sentimento, para isso, escolha um dataset qualquer, recomendo pegar um do Kaggle\n",
        "https://www.kaggle.com/datasets?search=sentiment+analysis\n",
        "\n",
        "Faça a análise dos dados e responda as perguntas:\n",
        "\n",
        "1. Sobre o que são os dados?\n",
        "2. Que tipo de limpeza de dados vocês fizeram?\n",
        "3. Quais são os termos mais frequentes?\n",
        "4. Qual o balanceamento dos dados?\n",
        "5. Considere que vocês devem expandir essa base de dados\n",
        "  - Quais as fontes de dados vocês podem usar?\n",
        "  - Descreva como vocês iriam coletar esses dados?\n",
        "\n",
        "# Desafio em grupo\n",
        "\n",
        "Implemente um modelo de classificação a escolha do grupo.\n",
        "\n",
        "\n"
      ]
    },
    {
      "cell_type": "markdown",
      "metadata": {
        "id": "Cr4Sjt5gzoi2"
      },
      "source": [
        "# 1. Sobre o que são os dados?\n",
        "\n",
        "Utilizamos o conjunto de dados \"IMDB Movie Ratings Sentiment Analysis\", que contém informações sobre análises de filmes, incluindo avaliações de usuários e análises de sentimentos (0 para negativo e 1 para positivo)."
      ]
    },
    {
      "cell_type": "code",
      "execution_count": null,
      "metadata": {
        "id": "astMLJKAhtHi"
      },
      "outputs": [],
      "source": [
        "import numpy as np\n",
        "import pandas as pd\n",
        "\n",
        "import matplotlib.pyplot as plt\n",
        "from wordcloud import WordCloud, STOPWORDS\n",
        "\n",
        "import re\n",
        "import nltk\n",
        "import string\n",
        "from nltk.stem import PorterStemmer, WordNetLemmatizer\n",
        "from nltk.corpus import stopwords\n",
        "\n",
        "import gensim\n",
        "from gensim.utils import simple_preprocess\n",
        "from gensim.parsing.preprocessing import STOPWORDS\n",
        "from gensim import corpora\n",
        "\n",
        "from textblob import TextBlob\n",
        "\n",
        "from sklearn.model_selection import train_test_split\n",
        "from sklearn.feature_extraction.text import CountVectorizer\n",
        "from sklearn.naive_bayes import MultinomialNB\n",
        "from sklearn.metrics import accuracy_score, classification_report"
      ]
    },
    {
      "cell_type": "code",
      "execution_count": null,
      "metadata": {
        "id": "UR6T5f8bwBRM"
      },
      "outputs": [],
      "source": [
        "urls = [\n",
        "    \"https://raw.githubusercontent.com/meduardamoliveira/cesar/main/movie_divide_csv_1.csv\",\n",
        "    \"https://raw.githubusercontent.com/meduardamoliveira/cesar/main/movie_divide_csv_2.csv\",\n",
        "    \"https://raw.githubusercontent.com/meduardamoliveira/cesar/main/movie_divide_csv_3.csv\"\n",
        "]\n",
        "\n",
        "data_frames = [pd.read_csv(url) for url in urls]\n",
        "df = pd.concat(data_frames)"
      ]
    },
    {
      "cell_type": "code",
      "execution_count": null,
      "metadata": {
        "colab": {
          "base_uri": "https://localhost:8080/",
          "height": 424
        },
        "id": "EDX1OEG_Tu66",
        "outputId": "a31c63fa-a2c9-4346-c0a7-dd60390e3b63"
      },
      "outputs": [
        {
          "output_type": "execute_result",
          "data": {
            "text/plain": [
              "                                                   text  label\n",
              "0     I grew up (b. 1965) watching and loving the Th...      0\n",
              "1     When I put this movie in my DVD player, and sa...      0\n",
              "2     Why do people who do not know what a particula...      0\n",
              "3     Even though I have great interest in Biblical ...      0\n",
              "4     Im a die hard Dads Army fan and nothing will e...      1\n",
              "...                                                 ...    ...\n",
              "9995  \"Western Union\" is something of a forgotten cl...      1\n",
              "9996  This movie is an incredible piece of work. It ...      1\n",
              "9997  My wife and I watched this movie because we pl...      0\n",
              "9998  When I first watched Flatliners, I was amazed....      1\n",
              "9999  Why would this film be so good, but only gross...      1\n",
              "\n",
              "[40000 rows x 2 columns]"
            ],
            "text/html": [
              "\n",
              "  <div id=\"df-7dcb7080-0ab0-4d79-b6ca-125d4f4e8ae9\" class=\"colab-df-container\">\n",
              "    <div>\n",
              "<style scoped>\n",
              "    .dataframe tbody tr th:only-of-type {\n",
              "        vertical-align: middle;\n",
              "    }\n",
              "\n",
              "    .dataframe tbody tr th {\n",
              "        vertical-align: top;\n",
              "    }\n",
              "\n",
              "    .dataframe thead th {\n",
              "        text-align: right;\n",
              "    }\n",
              "</style>\n",
              "<table border=\"1\" class=\"dataframe\">\n",
              "  <thead>\n",
              "    <tr style=\"text-align: right;\">\n",
              "      <th></th>\n",
              "      <th>text</th>\n",
              "      <th>label</th>\n",
              "    </tr>\n",
              "  </thead>\n",
              "  <tbody>\n",
              "    <tr>\n",
              "      <th>0</th>\n",
              "      <td>I grew up (b. 1965) watching and loving the Th...</td>\n",
              "      <td>0</td>\n",
              "    </tr>\n",
              "    <tr>\n",
              "      <th>1</th>\n",
              "      <td>When I put this movie in my DVD player, and sa...</td>\n",
              "      <td>0</td>\n",
              "    </tr>\n",
              "    <tr>\n",
              "      <th>2</th>\n",
              "      <td>Why do people who do not know what a particula...</td>\n",
              "      <td>0</td>\n",
              "    </tr>\n",
              "    <tr>\n",
              "      <th>3</th>\n",
              "      <td>Even though I have great interest in Biblical ...</td>\n",
              "      <td>0</td>\n",
              "    </tr>\n",
              "    <tr>\n",
              "      <th>4</th>\n",
              "      <td>Im a die hard Dads Army fan and nothing will e...</td>\n",
              "      <td>1</td>\n",
              "    </tr>\n",
              "    <tr>\n",
              "      <th>...</th>\n",
              "      <td>...</td>\n",
              "      <td>...</td>\n",
              "    </tr>\n",
              "    <tr>\n",
              "      <th>9995</th>\n",
              "      <td>\"Western Union\" is something of a forgotten cl...</td>\n",
              "      <td>1</td>\n",
              "    </tr>\n",
              "    <tr>\n",
              "      <th>9996</th>\n",
              "      <td>This movie is an incredible piece of work. It ...</td>\n",
              "      <td>1</td>\n",
              "    </tr>\n",
              "    <tr>\n",
              "      <th>9997</th>\n",
              "      <td>My wife and I watched this movie because we pl...</td>\n",
              "      <td>0</td>\n",
              "    </tr>\n",
              "    <tr>\n",
              "      <th>9998</th>\n",
              "      <td>When I first watched Flatliners, I was amazed....</td>\n",
              "      <td>1</td>\n",
              "    </tr>\n",
              "    <tr>\n",
              "      <th>9999</th>\n",
              "      <td>Why would this film be so good, but only gross...</td>\n",
              "      <td>1</td>\n",
              "    </tr>\n",
              "  </tbody>\n",
              "</table>\n",
              "<p>40000 rows × 2 columns</p>\n",
              "</div>\n",
              "    <div class=\"colab-df-buttons\">\n",
              "\n",
              "  <div class=\"colab-df-container\">\n",
              "    <button class=\"colab-df-convert\" onclick=\"convertToInteractive('df-7dcb7080-0ab0-4d79-b6ca-125d4f4e8ae9')\"\n",
              "            title=\"Convert this dataframe to an interactive table.\"\n",
              "            style=\"display:none;\">\n",
              "\n",
              "  <svg xmlns=\"http://www.w3.org/2000/svg\" height=\"24px\" viewBox=\"0 -960 960 960\">\n",
              "    <path d=\"M120-120v-720h720v720H120Zm60-500h600v-160H180v160Zm220 220h160v-160H400v160Zm0 220h160v-160H400v160ZM180-400h160v-160H180v160Zm440 0h160v-160H620v160ZM180-180h160v-160H180v160Zm440 0h160v-160H620v160Z\"/>\n",
              "  </svg>\n",
              "    </button>\n",
              "\n",
              "  <style>\n",
              "    .colab-df-container {\n",
              "      display:flex;\n",
              "      gap: 12px;\n",
              "    }\n",
              "\n",
              "    .colab-df-convert {\n",
              "      background-color: #E8F0FE;\n",
              "      border: none;\n",
              "      border-radius: 50%;\n",
              "      cursor: pointer;\n",
              "      display: none;\n",
              "      fill: #1967D2;\n",
              "      height: 32px;\n",
              "      padding: 0 0 0 0;\n",
              "      width: 32px;\n",
              "    }\n",
              "\n",
              "    .colab-df-convert:hover {\n",
              "      background-color: #E2EBFA;\n",
              "      box-shadow: 0px 1px 2px rgba(60, 64, 67, 0.3), 0px 1px 3px 1px rgba(60, 64, 67, 0.15);\n",
              "      fill: #174EA6;\n",
              "    }\n",
              "\n",
              "    .colab-df-buttons div {\n",
              "      margin-bottom: 4px;\n",
              "    }\n",
              "\n",
              "    [theme=dark] .colab-df-convert {\n",
              "      background-color: #3B4455;\n",
              "      fill: #D2E3FC;\n",
              "    }\n",
              "\n",
              "    [theme=dark] .colab-df-convert:hover {\n",
              "      background-color: #434B5C;\n",
              "      box-shadow: 0px 1px 3px 1px rgba(0, 0, 0, 0.15);\n",
              "      filter: drop-shadow(0px 1px 2px rgba(0, 0, 0, 0.3));\n",
              "      fill: #FFFFFF;\n",
              "    }\n",
              "  </style>\n",
              "\n",
              "    <script>\n",
              "      const buttonEl =\n",
              "        document.querySelector('#df-7dcb7080-0ab0-4d79-b6ca-125d4f4e8ae9 button.colab-df-convert');\n",
              "      buttonEl.style.display =\n",
              "        google.colab.kernel.accessAllowed ? 'block' : 'none';\n",
              "\n",
              "      async function convertToInteractive(key) {\n",
              "        const element = document.querySelector('#df-7dcb7080-0ab0-4d79-b6ca-125d4f4e8ae9');\n",
              "        const dataTable =\n",
              "          await google.colab.kernel.invokeFunction('convertToInteractive',\n",
              "                                                    [key], {});\n",
              "        if (!dataTable) return;\n",
              "\n",
              "        const docLinkHtml = 'Like what you see? Visit the ' +\n",
              "          '<a target=\"_blank\" href=https://colab.research.google.com/notebooks/data_table.ipynb>data table notebook</a>'\n",
              "          + ' to learn more about interactive tables.';\n",
              "        element.innerHTML = '';\n",
              "        dataTable['output_type'] = 'display_data';\n",
              "        await google.colab.output.renderOutput(dataTable, element);\n",
              "        const docLink = document.createElement('div');\n",
              "        docLink.innerHTML = docLinkHtml;\n",
              "        element.appendChild(docLink);\n",
              "      }\n",
              "    </script>\n",
              "  </div>\n",
              "\n",
              "\n",
              "<div id=\"df-b9ae4b07-ab14-46bd-b14e-ed73b2166ead\">\n",
              "  <button class=\"colab-df-quickchart\" onclick=\"quickchart('df-b9ae4b07-ab14-46bd-b14e-ed73b2166ead')\"\n",
              "            title=\"Suggest charts\"\n",
              "            style=\"display:none;\">\n",
              "\n",
              "<svg xmlns=\"http://www.w3.org/2000/svg\" height=\"24px\"viewBox=\"0 0 24 24\"\n",
              "     width=\"24px\">\n",
              "    <g>\n",
              "        <path d=\"M19 3H5c-1.1 0-2 .9-2 2v14c0 1.1.9 2 2 2h14c1.1 0 2-.9 2-2V5c0-1.1-.9-2-2-2zM9 17H7v-7h2v7zm4 0h-2V7h2v10zm4 0h-2v-4h2v4z\"/>\n",
              "    </g>\n",
              "</svg>\n",
              "  </button>\n",
              "\n",
              "<style>\n",
              "  .colab-df-quickchart {\n",
              "      --bg-color: #E8F0FE;\n",
              "      --fill-color: #1967D2;\n",
              "      --hover-bg-color: #E2EBFA;\n",
              "      --hover-fill-color: #174EA6;\n",
              "      --disabled-fill-color: #AAA;\n",
              "      --disabled-bg-color: #DDD;\n",
              "  }\n",
              "\n",
              "  [theme=dark] .colab-df-quickchart {\n",
              "      --bg-color: #3B4455;\n",
              "      --fill-color: #D2E3FC;\n",
              "      --hover-bg-color: #434B5C;\n",
              "      --hover-fill-color: #FFFFFF;\n",
              "      --disabled-bg-color: #3B4455;\n",
              "      --disabled-fill-color: #666;\n",
              "  }\n",
              "\n",
              "  .colab-df-quickchart {\n",
              "    background-color: var(--bg-color);\n",
              "    border: none;\n",
              "    border-radius: 50%;\n",
              "    cursor: pointer;\n",
              "    display: none;\n",
              "    fill: var(--fill-color);\n",
              "    height: 32px;\n",
              "    padding: 0;\n",
              "    width: 32px;\n",
              "  }\n",
              "\n",
              "  .colab-df-quickchart:hover {\n",
              "    background-color: var(--hover-bg-color);\n",
              "    box-shadow: 0 1px 2px rgba(60, 64, 67, 0.3), 0 1px 3px 1px rgba(60, 64, 67, 0.15);\n",
              "    fill: var(--button-hover-fill-color);\n",
              "  }\n",
              "\n",
              "  .colab-df-quickchart-complete:disabled,\n",
              "  .colab-df-quickchart-complete:disabled:hover {\n",
              "    background-color: var(--disabled-bg-color);\n",
              "    fill: var(--disabled-fill-color);\n",
              "    box-shadow: none;\n",
              "  }\n",
              "\n",
              "  .colab-df-spinner {\n",
              "    border: 2px solid var(--fill-color);\n",
              "    border-color: transparent;\n",
              "    border-bottom-color: var(--fill-color);\n",
              "    animation:\n",
              "      spin 1s steps(1) infinite;\n",
              "  }\n",
              "\n",
              "  @keyframes spin {\n",
              "    0% {\n",
              "      border-color: transparent;\n",
              "      border-bottom-color: var(--fill-color);\n",
              "      border-left-color: var(--fill-color);\n",
              "    }\n",
              "    20% {\n",
              "      border-color: transparent;\n",
              "      border-left-color: var(--fill-color);\n",
              "      border-top-color: var(--fill-color);\n",
              "    }\n",
              "    30% {\n",
              "      border-color: transparent;\n",
              "      border-left-color: var(--fill-color);\n",
              "      border-top-color: var(--fill-color);\n",
              "      border-right-color: var(--fill-color);\n",
              "    }\n",
              "    40% {\n",
              "      border-color: transparent;\n",
              "      border-right-color: var(--fill-color);\n",
              "      border-top-color: var(--fill-color);\n",
              "    }\n",
              "    60% {\n",
              "      border-color: transparent;\n",
              "      border-right-color: var(--fill-color);\n",
              "    }\n",
              "    80% {\n",
              "      border-color: transparent;\n",
              "      border-right-color: var(--fill-color);\n",
              "      border-bottom-color: var(--fill-color);\n",
              "    }\n",
              "    90% {\n",
              "      border-color: transparent;\n",
              "      border-bottom-color: var(--fill-color);\n",
              "    }\n",
              "  }\n",
              "</style>\n",
              "\n",
              "  <script>\n",
              "    async function quickchart(key) {\n",
              "      const quickchartButtonEl =\n",
              "        document.querySelector('#' + key + ' button');\n",
              "      quickchartButtonEl.disabled = true;  // To prevent multiple clicks.\n",
              "      quickchartButtonEl.classList.add('colab-df-spinner');\n",
              "      try {\n",
              "        const charts = await google.colab.kernel.invokeFunction(\n",
              "            'suggestCharts', [key], {});\n",
              "      } catch (error) {\n",
              "        console.error('Error during call to suggestCharts:', error);\n",
              "      }\n",
              "      quickchartButtonEl.classList.remove('colab-df-spinner');\n",
              "      quickchartButtonEl.classList.add('colab-df-quickchart-complete');\n",
              "    }\n",
              "    (() => {\n",
              "      let quickchartButtonEl =\n",
              "        document.querySelector('#df-b9ae4b07-ab14-46bd-b14e-ed73b2166ead button');\n",
              "      quickchartButtonEl.style.display =\n",
              "        google.colab.kernel.accessAllowed ? 'block' : 'none';\n",
              "    })();\n",
              "  </script>\n",
              "</div>\n",
              "    </div>\n",
              "  </div>\n"
            ]
          },
          "metadata": {},
          "execution_count": 4
        }
      ],
      "source": [
        "df"
      ]
    },
    {
      "cell_type": "code",
      "execution_count": null,
      "metadata": {
        "colab": {
          "base_uri": "https://localhost:8080/"
        },
        "id": "fvVhynUT2tE_",
        "outputId": "ab23ad16-e7ba-4db2-8204-19a0d33b60bd"
      },
      "outputs": [
        {
          "output_type": "stream",
          "name": "stdout",
          "text": [
            "text     0\n",
            "label    0\n",
            "dtype: int64\n"
          ]
        }
      ],
      "source": [
        "print(df.isnull().sum())"
      ]
    },
    {
      "cell_type": "code",
      "execution_count": null,
      "metadata": {
        "colab": {
          "base_uri": "https://localhost:8080/"
        },
        "id": "dWvgIYkkzGRV",
        "outputId": "30770c72-72fb-475c-90ba-2fdc0aa898a9"
      },
      "outputs": [
        {
          "output_type": "execute_result",
          "data": {
            "text/plain": [
              "0    20019\n",
              "1    19981\n",
              "Name: label, dtype: int64"
            ]
          },
          "metadata": {},
          "execution_count": 6
        }
      ],
      "source": [
        "df['label'].value_counts()"
      ]
    },
    {
      "cell_type": "markdown",
      "metadata": {
        "id": "ir-fz5guzLvP"
      },
      "source": [
        "# 2. Que tipo de limpeza de dados vocês fizeram?"
      ]
    },
    {
      "cell_type": "markdown",
      "metadata": {
        "id": "WqINKV7UqLKR"
      },
      "source": [
        "Inicialmente rodamos uma linha de código pra remover valores ausente, então partimos para a normalização de texto (convertendo todo o texto para minúsculas e removendo caracteres especiais). Após isso removemos espaços extras, fizemos a tokenização e remoção de stopwords para facilitar e não distocer a análise.\n",
        "Por fim, foi realizado o processo de lematização, facilitando a precisão da nossa análise."
      ]
    },
    {
      "cell_type": "code",
      "execution_count": null,
      "metadata": {
        "id": "BZcQw7px3R7l"
      },
      "outputs": [],
      "source": [
        "df.drop_duplicates(inplace=True)"
      ]
    },
    {
      "cell_type": "code",
      "execution_count": null,
      "metadata": {
        "colab": {
          "base_uri": "https://localhost:8080/"
        },
        "id": "b6s8VNJs6fEt",
        "outputId": "56487366-e450-4779-ccdb-e7e1d5f48912"
      },
      "outputs": [
        {
          "output_type": "stream",
          "name": "stderr",
          "text": [
            "<ipython-input-8-15c6cd3caae4>:6: FutureWarning: The default value of regex will change from True to False in a future version.\n",
            "  df['text'] = df['text'].str.replace('[^\\w\\s]', '')\n",
            "[nltk_data] Downloading package stopwords to /root/nltk_data...\n",
            "[nltk_data]   Unzipping corpora/stopwords.zip.\n",
            "[nltk_data] Downloading package wordnet to /root/nltk_data...\n"
          ]
        }
      ],
      "source": [
        "# Remoção de valores ausentes\n",
        "df.dropna(inplace=True)\n",
        "\n",
        "# Normalização de texto\n",
        "df['text'] = df['text'].str.lower()\n",
        "df['text'] = df['text'].str.replace('[^\\w\\s]', '')\n",
        "\n",
        "# Remoção de espaços extras\n",
        "df['text'] = df['text'].str.strip()\n",
        "\n",
        "# Tokenização e remoção de stopwords\n",
        "nltk.download('stopwords')\n",
        "stop = set(stopwords.words('english'))\n",
        "df['text'] = df['text'].apply(lambda x: ' '.join([word for word in x.split() if word not in (stop)]))\n",
        "\n",
        "# Lemmatização\n",
        "nltk.download('wordnet')\n",
        "lemmatizer = WordNetLemmatizer()\n",
        "df['text'] = df['text'].apply(lambda x: ' '.join([lemmatizer.lemmatize(word) for word in x.split()]))"
      ]
    },
    {
      "cell_type": "markdown",
      "metadata": {
        "id": "r9cTH9jyzeNn"
      },
      "source": [
        "# 3. Quais são os termos mais frequentes?"
      ]
    },
    {
      "cell_type": "markdown",
      "metadata": {
        "id": "QwQFxBK8t_0p"
      },
      "source": [
        "Os termos mais frequentes são: br, movie, film, one, like, time, good, character, even, get."
      ]
    },
    {
      "cell_type": "code",
      "source": [
        "import pandas as pd\n",
        "import matplotlib.pyplot as plt\n",
        "import seaborn as sns\n",
        "from nltk.tokenize import word_tokenize\n",
        "from nltk.probability import FreqDist\n",
        "import nltk\n",
        "nltk.download('punkt')"
      ],
      "metadata": {
        "colab": {
          "base_uri": "https://localhost:8080/"
        },
        "id": "L_gvnsG1SE0P",
        "outputId": "e89d7256-4e6b-48b9-90e3-32271ab88033"
      },
      "execution_count": null,
      "outputs": [
        {
          "output_type": "stream",
          "name": "stderr",
          "text": [
            "[nltk_data] Downloading package punkt to /root/nltk_data...\n",
            "[nltk_data]   Unzipping tokenizers/punkt.zip.\n"
          ]
        },
        {
          "output_type": "execute_result",
          "data": {
            "text/plain": [
              "True"
            ]
          },
          "metadata": {},
          "execution_count": 9
        }
      ]
    },
    {
      "cell_type": "code",
      "source": [
        "all_reviews = ' '.join(df['text'])\n",
        "\n",
        "# Tokenização\n",
        "tokens = word_tokenize(all_reviews)\n",
        "\n",
        "# Distribuição de frequência\n",
        "freq_dist = FreqDist(tokens)\n",
        "\n",
        "# Termos mais comuns\n",
        "most_common_terms = freq_dist.most_common(10)  # Você pode ajustar o número conforme necessário\n",
        "\n",
        "df_terms = pd.DataFrame(most_common_terms, columns=['term', 'frequency'])"
      ],
      "metadata": {
        "id": "xU7UWQ6ARm40"
      },
      "execution_count": null,
      "outputs": []
    },
    {
      "cell_type": "code",
      "source": [
        "plt.figure(figsize=(10, 6))\n",
        "barplot = sns.barplot(x='frequency', y='term', data=df_terms, palette='viridis')\n",
        "plt.xlabel('Frequência')\n",
        "plt.ylabel('Termo')\n",
        "plt.title('Top 10 Termos Mais Frequentes')\n",
        "\n",
        "for p in barplot.patches:\n",
        "    barplot.annotate(format(p.get_width(), '.0f'),\n",
        "                     (p.get_width(), p.get_y() + p.get_height() / 2.),\n",
        "                     ha = 'center', va = 'center',\n",
        "                     xytext = (20, 0),\n",
        "                     textcoords = 'offset points')\n",
        "\n",
        "plt.show()"
      ],
      "metadata": {
        "colab": {
          "base_uri": "https://localhost:8080/",
          "height": 565
        },
        "id": "cBATt37sR__c",
        "outputId": "0b9773e3-4860-4470-bd1f-764f6a4e6ff0"
      },
      "execution_count": null,
      "outputs": [
        {
          "output_type": "display_data",
          "data": {
            "text/plain": [
              "<Figure size 1000x600 with 1 Axes>"
            ],
            "image/png": "[encoded data removed]"
          },
          "metadata": {}
        }
      ]
    },
    {
      "cell_type": "markdown",
      "metadata": {
        "id": "_HoqUNIg09a6"
      },
      "source": [
        "# 4. Qual o balanceamento dos dados?"
      ]
    },
    {
      "cell_type": "markdown",
      "metadata": {
        "id": "S_ojV7f1vbcs"
      },
      "source": [
        "O conjunto de dados de avaliações do IMDB apresenta um bom exemplo de balanceamento entre classes. Com 19.908 avaliações classificadas como positivas (label '1') e 19.815 classificadas como negativas (label '0'), as proporções estão quase que empatadas, com cerca de 50,12% dos dados sendo positivos e 49,88% negativos."
      ]
    },
    {
      "cell_type": "code",
      "execution_count": null,
      "metadata": {
        "colab": {
          "base_uri": "https://localhost:8080/"
        },
        "id": "7Qp_IyXl9ZYc",
        "outputId": "eb06c56b-6bfa-44cd-c5d2-c88d15ff6921"
      },
      "outputs": [
        {
          "output_type": "stream",
          "name": "stdout",
          "text": [
            "Contagem de Labels:\n",
            "1    19908\n",
            "0    19815\n",
            "Name: label, dtype: int64\n",
            "\n",
            "Proporções de Labels (%):\n",
            "1    50.117061\n",
            "0    49.882939\n",
            "Name: label, dtype: float64\n"
          ]
        }
      ],
      "source": [
        "balanceamento = df['label'].value_counts()\n",
        "proporcoes = balanceamento / len(df) * 100\n",
        "\n",
        "print(\"Contagem de Labels:\")\n",
        "print(balanceamento)\n",
        "print(\"\\nProporções de Labels (%):\")\n",
        "print(proporcoes)"
      ]
    },
    {
      "cell_type": "code",
      "source": [
        "plt.figure(figsize=(5, 3))\n",
        "cores = sns.color_palette('Set2')\n",
        "barplot = balanceamento.plot(kind='barh', color=cores[:2])\n",
        "for p in barplot.patches:\n",
        "    plt.text(p.get_width() - (p.get_width() * 0.05), p.get_y() + p.get_height() / 2,\n",
        "             f'{int(p.get_width())}',\n",
        "             va='center', ha='right', color='white')\n",
        "plt.xlabel('Quantidade')\n",
        "plt.ylabel('Label')\n",
        "plt.title('Balanceamento dos Labels')\n",
        "plt.show()"
      ],
      "metadata": {
        "colab": {
          "base_uri": "https://localhost:8080/",
          "height": 333
        },
        "id": "3GCj-XrqWB4F",
        "outputId": "ee296dad-3584-4fde-a56e-0404c22d7c70"
      },
      "execution_count": null,
      "outputs": [
        {
          "output_type": "display_data",
          "data": {
            "text/plain": [
              "<Figure size 500x300 with 1 Axes>"
            ],
            "image/png": "[encoded data removed]"
          },
          "metadata": {}
        }
      ]
    },
    {
      "cell_type": "code",
      "source": [
        "plt.figure(figsize=(5, 3))\n",
        "cores = sns.color_palette('Set2')\n",
        "barplot = proporcoes.plot(kind='barh', color=cores[:2])\n",
        "for p in barplot.patches:\n",
        "    plt.text(p.get_width() - (p.get_width() * 0.05), p.get_y() + p.get_height() / 2,\n",
        "             f'{int(p.get_width())}',\n",
        "             va='center', ha='right', color='white')\n",
        "plt.xlabel('Porcentagem')\n",
        "plt.ylabel('Label')\n",
        "plt.title('Proporções dos Labels')\n",
        "plt.show()"
      ],
      "metadata": {
        "colab": {
          "base_uri": "https://localhost:8080/",
          "height": 333
        },
        "id": "8kHwlMFuTKVI",
        "outputId": "46d4e710-6ce8-4157-dd5c-cf2518bb5b10"
      },
      "execution_count": null,
      "outputs": [
        {
          "output_type": "display_data",
          "data": {
            "text/plain": [
              "<Figure size 500x300 with 1 Axes>"
            ],
            "image/png": "[encoded data removed]"
          },
          "metadata": {}
        }
      ]
    },
    {
      "cell_type": "markdown",
      "metadata": {
        "id": "VpIdUkMWyLXR"
      },
      "source": [
        "# 5. Considere que vocês devem expandir essa base de dados\n",
        "Quais as fontes de dados vocês podem usar?\n",
        "Descreva como vocês iriam coletar esses dados?"
      ]
    },
    {
      "cell_type": "markdown",
      "metadata": {
        "id": "SbJqi1pwy3Rm"
      },
      "source": [
        "Para expandir a base de dados, poderiamos utilizar fontes como outros sites de avaliações (Rotten Tomatoes, Metacritic), redes sociais (Twitter, Facebook) e fóruns (Reddit). Nesses três últimos seria interessante pegar a partir da hashtag de algum filme ou série em específico. A coleta pode ser feita através de APIs oficiais, web scraping ou até mesmo por meio de parcerias com plataformas de avaliação. Além disso, em relação ao próprio IMDB, seria interessante saber o nome e gênero de cada filme.\n",
        "\n",
        "É essencial considerar aspectos éticos e legais, respeitando a privacidade dos usuários, os termos de serviço dos sites e as leis de direitos autorais. Para a coleta automatizada, scripts em Python podem ser programados para realizar scraping ou acessar APIs periodicamente, armazenando os dados coletados para análises futuras. Essas ações visam melhorar a diversidade e a quantidade de dados para treinar modelos de machine learning mais robustos e precisos."
      ]
    },
    {
      "cell_type": "markdown",
      "source": [
        "# 6. Modelo de Classificação"
      ],
      "metadata": {
        "id": "1r60gBYVT5jR"
      }
    },
    {
      "cell_type": "code",
      "execution_count": null,
      "metadata": {
        "id": "Jiz2s4SYvYc1"
      },
      "outputs": [],
      "source": [
        "X_train, X_test, y_train, y_test = train_test_split(df['text'], df['label'], test_size=0.2, random_state=42)\n",
        "\n",
        "vectorizer = CountVectorizer()\n",
        "X_train_vec = vectorizer.fit_transform(X_train)\n",
        "X_test_vec = vectorizer.transform(X_test)"
      ]
    },
    {
      "cell_type": "code",
      "source": [
        "nb_classifier = MultinomialNB()\n",
        "nb_classifier.fit(X_train_vec, y_train)"
      ],
      "metadata": {
        "colab": {
          "base_uri": "https://localhost:8080/",
          "height": 75
        },
        "id": "s3d29baPgXVG",
        "outputId": "285a7a7e-6db9-4f92-eea0-982ac83e180a"
      },
      "execution_count": null,
      "outputs": [
        {
          "output_type": "execute_result",
          "data": {
            "text/plain": [
              "MultinomialNB()"
            ],
            "text/html": [
              "<style>#sk-container-id-1 {color: black;background-color: white;}#sk-container-id-1 pre{padding: 0;}#sk-container-id-1 div.sk-toggleable {background-color: white;}#sk-container-id-1 label.sk-toggleable__label {cursor: pointer;display: block;width: 100%;margin-bottom: 0;padding: 0.3em;box-sizing: border-box;text-align: center;}#sk-container-id-1 label.sk-toggleable__label-arrow:before {content: \"▸\";float: left;margin-right: 0.25em;color: #696969;}#sk-container-id-1 label.sk-toggleable__label-arrow:hover:before {color: black;}#sk-container-id-1 div.sk-estimator:hover label.sk-toggleable__label-arrow:before {color: black;}#sk-container-id-1 div.sk-toggleable__content {max-height: 0;max-width: 0;overflow: hidden;text-align: left;background-color: #f0f8ff;}#sk-container-id-1 div.sk-toggleable__content pre {margin: 0.2em;color: black;border-radius: 0.25em;background-color: #f0f8ff;}#sk-container-id-1 input.sk-toggleable__control:checked~div.sk-toggleable__content {max-height: 200px;max-width: 100%;overflow: auto;}#sk-container-id-1 input.sk-toggleable__control:checked~label.sk-toggleable__label-arrow:before {content: \"▾\";}#sk-container-id-1 div.sk-estimator input.sk-toggleable__control:checked~label.sk-toggleable__label {background-color: #d4ebff;}#sk-container-id-1 div.sk-label input.sk-toggleable__control:checked~label.sk-toggleable__label {background-color: #d4ebff;}#sk-container-id-1 input.sk-hidden--visually {border: 0;clip: rect(1px 1px 1px 1px);clip: rect(1px, 1px, 1px, 1px);height: 1px;margin: -1px;overflow: hidden;padding: 0;position: absolute;width: 1px;}#sk-container-id-1 div.sk-estimator {font-family: monospace;background-color: #f0f8ff;border: 1px dotted black;border-radius: 0.25em;box-sizing: border-box;margin-bottom: 0.5em;}#sk-container-id-1 div.sk-estimator:hover {background-color: #d4ebff;}#sk-container-id-1 div.sk-parallel-item::after {content: \"\";width: 100%;border-bottom: 1px solid gray;flex-grow: 1;}#sk-container-id-1 div.sk-label:hover label.sk-toggleable__label {background-color: #d4ebff;}#sk-container-id-1 div.sk-serial::before {content: \"\";position: absolute;border-left: 1px solid gray;box-sizing: border-box;top: 0;bottom: 0;left: 50%;z-index: 0;}#sk-container-id-1 div.sk-serial {display: flex;flex-direction: column;align-items: center;background-color: white;padding-right: 0.2em;padding-left: 0.2em;position: relative;}#sk-container-id-1 div.sk-item {position: relative;z-index: 1;}#sk-container-id-1 div.sk-parallel {display: flex;align-items: stretch;justify-content: center;background-color: white;position: relative;}#sk-container-id-1 div.sk-item::before, #sk-container-id-1 div.sk-parallel-item::before {content: \"\";position: absolute;border-left: 1px solid gray;box-sizing: border-box;top: 0;bottom: 0;left: 50%;z-index: -1;}#sk-container-id-1 div.sk-parallel-item {display: flex;flex-direction: column;z-index: 1;position: relative;background-color: white;}#sk-container-id-1 div.sk-parallel-item:first-child::after {align-self: flex-end;width: 50%;}#sk-container-id-1 div.sk-parallel-item:last-child::after {align-self: flex-start;width: 50%;}#sk-container-id-1 div.sk-parallel-item:only-child::after {width: 0;}#sk-container-id-1 div.sk-dashed-wrapped {border: 1px dashed gray;margin: 0 0.4em 0.5em 0.4em;box-sizing: border-box;padding-bottom: 0.4em;background-color: white;}#sk-container-id-1 div.sk-label label {font-family: monospace;font-weight: bold;display: inline-block;line-height: 1.2em;}#sk-container-id-1 div.sk-label-container {text-align: center;}#sk-container-id-1 div.sk-container {/* jupyter's `normalize.less` sets `[hidden] { display: none; }` but bootstrap.min.css set `[hidden] { display: none !important; }` so we also need the `!important` here to be able to override the default hidden behavior on the sphinx rendered scikit-learn.org. See: https://github.com/scikit-learn/scikit-learn/issues/21755 */display: inline-block !important;position: relative;}#sk-container-id-1 div.sk-text-repr-fallback {display: none;}</style><div id=\"sk-container-id-1\" class=\"sk-top-container\"><div class=\"sk-text-repr-fallback\"><pre>MultinomialNB()</pre><b>In a Jupyter environment, please rerun this cell to show the HTML representation or trust the notebook. <br />On GitHub, the HTML representation is unable to render, please try loading this page with nbviewer.org.</b></div><div class=\"sk-container\" hidden><div class=\"sk-item\"><div class=\"sk-estimator sk-toggleable\"><input class=\"sk-toggleable__control sk-hidden--visually\" id=\"sk-estimator-id-1\" type=\"checkbox\" checked><label for=\"sk-estimator-id-1\" class=\"sk-toggleable__label sk-toggleable__label-arrow\">MultinomialNB</label><div class=\"sk-toggleable__content\"><pre>MultinomialNB()</pre></div></div></div></div></div>"
            ]
          },
          "metadata": {},
          "execution_count": 16
        }
      ]
    },
    {
      "cell_type": "code",
      "source": [
        "y_pred = nb_classifier.predict(X_test_vec)\n",
        "\n",
        "accuracy = accuracy_score(y_test, y_pred)\n",
        "print(\"Accuracy:\", accuracy)\n",
        "print(\"\\nClassification Report:\")\n",
        "print(classification_report(y_test, y_pred))"
      ],
      "metadata": {
        "colab": {
          "base_uri": "https://localhost:8080/"
        },
        "id": "IQIWZJiwgehv",
        "outputId": "42317b73-773b-4324-8295-9a8e6d9e0fb6"
      },
      "execution_count": null,
      "outputs": [
        {
          "output_type": "stream",
          "name": "stdout",
          "text": [
            "Accuracy: 0.8597860289490246\n",
            "\n",
            "Classification Report:\n",
            "              precision    recall  f1-score   support\n",
            "\n",
            "           0       0.85      0.87      0.86      3991\n",
            "           1       0.87      0.85      0.86      3954\n",
            "\n",
            "    accuracy                           0.86      7945\n",
            "   macro avg       0.86      0.86      0.86      7945\n",
            "weighted avg       0.86      0.86      0.86      7945\n",
            "\n"
          ]
        }
      ]
    },
    {
      "cell_type": "markdown",
      "source": [
        "Utilizamos o modelo de classificação \"Naive Bayes\" para analisar sentimentos em avaliações de filmes, alcançando uma precisão geral de aproximadamente 85.98%. Outras medidas também foram aplicadas:\n",
        "\n",
        "- **Avaliação Negativa (0)**:\n",
        "   - **Precisão**: 85% (Quando o modelo prevê a classe negativa, ele está correto 85% das vezes).\n",
        "   - **Recall**: 87% (O modelo identifica corretamente 87% de todas as instâncias negativas).\n",
        "   - **F1-Score**: 86% (Uma média harmônica entre precisão e recall, indicando um equilíbrio entre essas métricas).\n",
        "\n",
        "- **Avaliação Positiva (1)**:\n",
        "   - **Precisão**: 87% (Quando o modelo prevê a classe positiva, ele está correto 87% das vezes).\n",
        "   - **Recall**: 85% (O modelo identifica corretamente 85% de todas as instâncias positivas).\n",
        "   - **F1-Score**: 86% (Similarmente, indica um bom equilíbrio entre precisão e recall).\n",
        "\n",
        "As avaliações negativas e positivas estão bem distribuído, indicando que o conjunto de teste tem uma quantidade quase igual de exemplos de cada classe, o que é bom para avaliar o desempenho do modelo de forma equilibrada.\n",
        "\n",
        "De modo geral, modelo demonstra uma boa performance, mas seria possível realizar alguns ajustes, como implementar técnicas adicionais de processamento de texto para aumentar ainda mais a precisão e outras métricas relevantes."
      ],
      "metadata": {
        "id": "odU8Cj9OmbdD"
      }
    }
  ],
  "metadata": {
    "colab": {
      "provenance": []
    },
    "kernelspec": {
      "display_name": "Python 3",
      "name": "python3"
    },
    "language_info": {
      "name": "python"
    }
  },
  "nbformat": 4,
  "nbformat_minor": 0
}